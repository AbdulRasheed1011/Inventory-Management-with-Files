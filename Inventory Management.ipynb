{
 "cells": [
  {
   "cell_type": "markdown",
   "id": "f30097b5",
   "metadata": {},
   "source": [
    "# Product Details\n",
    "1. product ID\n",
    "2. Product Name\n",
    "3. Product Price\n",
    "4. Product Quanitity"
   ]
  },
  {
   "cell_type": "code",
   "execution_count": 1,
   "id": "9e6ea479",
   "metadata": {},
   "outputs": [],
   "source": [
    "fd = open(\"invmg.txt\", \"r\")\n",
    "txt = fd.read()\n",
    "fd.close()"
   ]
  },
  {
   "cell_type": "code",
   "execution_count": 2,
   "id": "c10049f9",
   "metadata": {},
   "outputs": [
    {
     "data": {
      "text/plain": [
       "'1, cadbury, 200, 2000\\n2, 5 star, 100, 5000\\n3, milky bar, 50, 1000\\n4, munch, 50, 1000'"
      ]
     },
     "execution_count": 2,
     "metadata": {},
     "output_type": "execute_result"
    }
   ],
   "source": [
    "txt"
   ]
  },
  {
   "cell_type": "code",
   "execution_count": 3,
   "id": "aec0e457",
   "metadata": {},
   "outputs": [
    {
     "name": "stdout",
     "output_type": "stream",
     "text": [
      "1, cadbury, 200, 2000\n",
      "2, 5 star, 100, 5000\n",
      "3, milky bar, 50, 1000\n",
      "4, munch, 50, 1000\n"
     ]
    }
   ],
   "source": [
    "print(txt)"
   ]
  },
  {
   "cell_type": "code",
   "execution_count": 4,
   "id": "99c2b32c",
   "metadata": {},
   "outputs": [
    {
     "ename": "NameError",
     "evalue": "name 'l' is not defined",
     "output_type": "error",
     "traceback": [
      "\u001b[0;31m---------------------------------------------------------------------------\u001b[0m",
      "\u001b[0;31mNameError\u001b[0m                                 Traceback (most recent call last)",
      "Cell \u001b[0;32mIn[4], line 2\u001b[0m\n\u001b[1;32m      1\u001b[0m products \u001b[38;5;241m=\u001b[39m txt\u001b[38;5;241m.\u001b[39msplit(\u001b[38;5;124m'\u001b[39m\u001b[38;5;130;01m\\n\u001b[39;00m\u001b[38;5;124m'\u001b[39m)\n\u001b[0;32m----> 2\u001b[0m \u001b[38;5;28mprint\u001b[39m(l)\n",
      "\u001b[0;31mNameError\u001b[0m: name 'l' is not defined"
     ]
    }
   ],
   "source": [
    "products = txt.split('\\n')\n",
    "print(l)"
   ]
  },
  {
   "cell_type": "code",
   "execution_count": null,
   "id": "d673fff5",
   "metadata": {},
   "outputs": [],
   "source": [
    "len(products)"
   ]
  },
  {
   "cell_type": "code",
   "execution_count": null,
   "id": "8f8882fc",
   "metadata": {},
   "outputs": [],
   "source": [
    "for i in products:\n",
    "    print(i)"
   ]
  },
  {
   "cell_type": "code",
   "execution_count": 23,
   "id": "be2f09eb",
   "metadata": {},
   "outputs": [
    {
     "name": "stdout",
     "output_type": "stream",
     "text": [
      "Enter your Name: Asma\n",
      "Enter your Phone Number: 24225224\n",
      "Enter E-mail IDasma@gmail.com\n",
      "Enter Product ID: 3\n",
      "Enter Product quantity: 10000\n",
      "Sorry, Out of Stock\n",
      "We got only 980 Units\n",
      "Enter Y to buy remaining stock or N to Noy\n",
      "-----------------------------------------------------------\n",
      "Product name     :   milky bar\n",
      "Product price    :   50\n",
      "Product quantity :  980\n",
      "-----------------------------------------------------------\n",
      "Total Bill Amount: 49000\n",
      "-----------------------------------------------------------\n"
     ]
    }
   ],
   "source": [
    "import time\n",
    "fd = open(\"invmg.txt\", 'r')\n",
    "products = fd.read().split('\\n')\n",
    "fd.close()\n",
    "\n",
    "ur_username = input(\"Enter your Name: \")\n",
    "ur_phone_no = input(\"Enter your Phone Number: \")\n",
    "ur_email = input(\"Enter E-mail ID\")\n",
    "ur_prod_id = input(\"Enter Product ID: \")\n",
    "ur_prod_qn = input(\"Enter Product quantity: \")\n",
    "updated_product_list = []\n",
    "\n",
    "for product in products:\n",
    "    \n",
    "    product_details = product.split(\",\")\n",
    "   \n",
    "    \n",
    "    if (product_details[0] == ur_prod_id):\n",
    "        \n",
    "        if (int(ur_prod_qn)<= int(product_details[3])):\n",
    "        \n",
    "            print(\"-----------------------------------------------------------\")\n",
    "            print(\"Product name     : \", product_details[1])\n",
    "            print(\"Product price    : \", product_details[2])\n",
    "            print(\"Product quantity : \", ur_prod_qn)\n",
    "            print(\"-----------------------------------------------------------\")\n",
    "            print(\"Total Bill Amount:\", int(ur_prod_qn)*int(product_details[2]))\n",
    "            print(\"-----------------------------------------------------------\")\n",
    "            \n",
    "            print(\"Inventory updated\")\n",
    "\n",
    "            product_details[3] = str(int(product_details[3]) - int(ur_prod_qn))\n",
    "            \n",
    "            fd = open('sales.txt', 'a')\n",
    "            sales_details = ur_username + ',' + ur_phone_no + ',' + ur_email + ','+  product_details[1]+ ','+ur_prod_id + ',' + ur_prod_qn +','+ str(int(ur_prod_qn)*int(product_details[2]))+','+time.ctime()\n",
    "            fd.write(sales_details)\n",
    "            fd.close()\n",
    "            \n",
    "            \n",
    "\n",
    "    \n",
    "        else:\n",
    "            print(\"Sorry, Out of Stock\")\n",
    "            print(\"We got only\", product_details[3], \"Units\")\n",
    "            ch = input(\"Enter Y to buy remaining stock or N to No\")\n",
    "            if (ch == 'Y' or ch == 'y'):\n",
    "                print(\"-----------------------------------------------------------\")\n",
    "                print(\"Product name     : \", product_details[1])\n",
    "                print(\"Product price    : \", product_details[2])\n",
    "                print(\"Product quantity : \", product_details[3])\n",
    "                print(\"-----------------------------------------------------------\")\n",
    "                print(\"Total Bill Amount:\", int(product_details[3])*int(product_details[2]))\n",
    "                print(\"-----------------------------------------------------------\")\n",
    "            \n",
    "                product_details[3] = \"0\"\n",
    "                \n",
    "                fd = open('sales.txt', 'a')\n",
    "                sales_details = ur_username + ',' + ur_phone_no + ',' + ur_email + ','+  product_details[1]+ ','+ur_prod_id + ',' + product_details[3] +','+ str(int(product_details[3])*int(product_details[2]))+','+time.ctime()+'\\n'\n",
    "                fd.write(sales_details)\n",
    "                fd.close()\n",
    "            elif (ch == \"n\" or ch == \"N\"):\n",
    "                print(\"we'll inform you as soon as we get the delivery\")\n",
    "                print(\"Thank You!, Have a good day\")\n",
    "\n",
    "    updated_product_list.append(product_details)\n",
    "lst = []\n",
    "\n",
    "for i in updated_product_list:\n",
    "    prod = i[0]+','+i[1]+','+i[2]+','+i[3]+'\\n'\n",
    "    lst.append(prod)\n",
    "lst[-1] = lst[-1][:-1]\n",
    "\n",
    "fd = open(\"invmg.txt\", \"w\")\n",
    "for i in lst:\n",
    "    fd.write(i)\n",
    "fd.close()"
   ]
  },
  {
   "cell_type": "code",
   "execution_count": 18,
   "id": "7bb94c64",
   "metadata": {},
   "outputs": [
    {
     "data": {
      "text/plain": [
       "'Sat Sep  9 19:35:15 2023'"
      ]
     },
     "execution_count": 18,
     "metadata": {},
     "output_type": "execute_result"
    }
   ],
   "source": [
    "import time\n",
    "time.ctime()"
   ]
  },
  {
   "cell_type": "code",
   "execution_count": 32,
   "id": "553511b4",
   "metadata": {},
   "outputs": [
    {
     "name": "stdout",
     "output_type": "stream",
     "text": [
      "['1', ' cadbury', ' 200', '500']\n"
     ]
    }
   ],
   "source": [
    "fd = open(\"invmg.txt\", 'r')\n",
    "products = fd.read().split(\"\\n\")\n",
    "for product in products:\n",
    "    product = product.split(\",\")\n",
    "    if (product[0] ==\"1\" or product):\n",
    "        print(product)\n"
   ]
  },
  {
   "cell_type": "code",
   "execution_count": null,
   "id": "56ce12d2",
   "metadata": {},
   "outputs": [],
   "source": []
  }
 ],
 "metadata": {
  "kernelspec": {
   "display_name": "Python 3 (ipykernel)",
   "language": "python",
   "name": "python3"
  },
  "language_info": {
   "codemirror_mode": {
    "name": "ipython",
    "version": 3
   },
   "file_extension": ".py",
   "mimetype": "text/x-python",
   "name": "python",
   "nbconvert_exporter": "python",
   "pygments_lexer": "ipython3",
   "version": "3.11.4"
  }
 },
 "nbformat": 4,
 "nbformat_minor": 5
}
